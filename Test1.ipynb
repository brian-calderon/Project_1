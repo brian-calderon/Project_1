{
 "cells": [
  {
   "cell_type": "code",
   "execution_count": 187,
   "id": "db7114e8",
   "metadata": {},
   "outputs": [
    {
     "data": {
      "text/html": [
       "<div>\n",
       "<style scoped>\n",
       "    .dataframe tbody tr th:only-of-type {\n",
       "        vertical-align: middle;\n",
       "    }\n",
       "\n",
       "    .dataframe tbody tr th {\n",
       "        vertical-align: top;\n",
       "    }\n",
       "\n",
       "    .dataframe thead th {\n",
       "        text-align: right;\n",
       "    }\n",
       "</style>\n",
       "<table border=\"1\" class=\"dataframe\">\n",
       "  <thead>\n",
       "    <tr style=\"text-align: right;\">\n",
       "      <th></th>\n",
       "      <th>App No</th>\n",
       "      <th>Type</th>\n",
       "      <th>App Date (M/D/Y)</th>\n",
       "      <th>Status</th>\n",
       "      <th>FRU Interview Scheduled</th>\n",
       "      <th>Drug Test</th>\n",
       "      <th>WAV Course</th>\n",
       "      <th>Defensive Driving</th>\n",
       "      <th>Driver Exam</th>\n",
       "      <th>Medical Clearance Form</th>\n",
       "      <th>Other Requirements</th>\n",
       "      <th>Last Updated</th>\n",
       "    </tr>\n",
       "  </thead>\n",
       "  <tbody>\n",
       "    <tr>\n",
       "      <th>0</th>\n",
       "      <td>5990450</td>\n",
       "      <td>HDR</td>\n",
       "      <td>02/17/2022</td>\n",
       "      <td>Incomplete</td>\n",
       "      <td>Not Applicable</td>\n",
       "      <td>Complete</td>\n",
       "      <td>Complete</td>\n",
       "      <td>Complete</td>\n",
       "      <td>Needed</td>\n",
       "      <td>Complete</td>\n",
       "      <td>Not Applicable</td>\n",
       "      <td>04/01/2022 05:00:03 PM</td>\n",
       "    </tr>\n",
       "    <tr>\n",
       "      <th>1</th>\n",
       "      <td>5961459</td>\n",
       "      <td>HDR</td>\n",
       "      <td>02/26/2020</td>\n",
       "      <td>Incomplete</td>\n",
       "      <td>Not Applicable</td>\n",
       "      <td>Needed</td>\n",
       "      <td>Needed</td>\n",
       "      <td>Complete</td>\n",
       "      <td>Needed</td>\n",
       "      <td>Needed</td>\n",
       "      <td>Copy of DMV license needed</td>\n",
       "      <td>04/01/2022 05:00:03 PM</td>\n",
       "    </tr>\n",
       "    <tr>\n",
       "      <th>2</th>\n",
       "      <td>5989657</td>\n",
       "      <td>HDR</td>\n",
       "      <td>02/02/2022</td>\n",
       "      <td>Incomplete</td>\n",
       "      <td>Not Applicable</td>\n",
       "      <td>Complete</td>\n",
       "      <td>Complete</td>\n",
       "      <td>Complete</td>\n",
       "      <td>Needed</td>\n",
       "      <td>Complete</td>\n",
       "      <td>Not Applicable</td>\n",
       "      <td>04/01/2022 05:00:03 PM</td>\n",
       "    </tr>\n",
       "    <tr>\n",
       "      <th>3</th>\n",
       "      <td>5992972</td>\n",
       "      <td>HDR</td>\n",
       "      <td>03/29/2022</td>\n",
       "      <td>Incomplete</td>\n",
       "      <td>Not Applicable</td>\n",
       "      <td>Needed</td>\n",
       "      <td>Needed</td>\n",
       "      <td>Needed</td>\n",
       "      <td>Needed</td>\n",
       "      <td>Needed</td>\n",
       "      <td>Fingerprints needed; Copy of DMV license needed</td>\n",
       "      <td>04/01/2022 05:00:03 PM</td>\n",
       "    </tr>\n",
       "    <tr>\n",
       "      <th>4</th>\n",
       "      <td>5990896</td>\n",
       "      <td>HDR</td>\n",
       "      <td>02/24/2022</td>\n",
       "      <td>Incomplete</td>\n",
       "      <td>Not Applicable</td>\n",
       "      <td>Needed</td>\n",
       "      <td>Needed</td>\n",
       "      <td>Needed</td>\n",
       "      <td>Needed</td>\n",
       "      <td>Needed</td>\n",
       "      <td>Fingerprints needed; Copy of DMV license needed</td>\n",
       "      <td>04/01/2022 05:00:03 PM</td>\n",
       "    </tr>\n",
       "  </tbody>\n",
       "</table>\n",
       "</div>"
      ],
      "text/plain": [
       "    App No Type App Date (M/D/Y)      Status FRU Interview Scheduled  \\\n",
       "0  5990450  HDR       02/17/2022  Incomplete          Not Applicable   \n",
       "1  5961459  HDR       02/26/2020  Incomplete          Not Applicable   \n",
       "2  5989657  HDR       02/02/2022  Incomplete          Not Applicable   \n",
       "3  5992972  HDR       03/29/2022  Incomplete          Not Applicable   \n",
       "4  5990896  HDR       02/24/2022  Incomplete          Not Applicable   \n",
       "\n",
       "  Drug Test WAV Course Defensive Driving Driver Exam Medical Clearance Form  \\\n",
       "0  Complete   Complete          Complete      Needed               Complete   \n",
       "1    Needed     Needed          Complete      Needed                 Needed   \n",
       "2  Complete   Complete          Complete      Needed               Complete   \n",
       "3    Needed     Needed            Needed      Needed                 Needed   \n",
       "4    Needed     Needed            Needed      Needed                 Needed   \n",
       "\n",
       "                                Other Requirements            Last Updated  \n",
       "0                                   Not Applicable  04/01/2022 05:00:03 PM  \n",
       "1                       Copy of DMV license needed  04/01/2022 05:00:03 PM  \n",
       "2                                   Not Applicable  04/01/2022 05:00:03 PM  \n",
       "3  Fingerprints needed; Copy of DMV license needed  04/01/2022 05:00:03 PM  \n",
       "4  Fingerprints needed; Copy of DMV license needed  04/01/2022 05:00:03 PM  "
      ]
     },
     "execution_count": 187,
     "metadata": {},
     "output_type": "execute_result"
    }
   ],
   "source": [
    "import numpy as np\n",
    "import pandas as pd\n",
    "import plotly\n",
    "\n",
    "df = pd.read_csv('TLC_New_Driver_App.csv') \n",
    "df.head()\n",
    "df = df.rename(columns={'App Date': 'App Date (M/D/Y)'})\n",
    "df.head()"
   ]
  },
  {
   "cell_type": "code",
   "execution_count": 188,
   "id": "2ded298a",
   "metadata": {},
   "outputs": [
    {
     "data": {
      "text/html": [
       "<div>\n",
       "<style scoped>\n",
       "    .dataframe tbody tr th:only-of-type {\n",
       "        vertical-align: middle;\n",
       "    }\n",
       "\n",
       "    .dataframe tbody tr th {\n",
       "        vertical-align: top;\n",
       "    }\n",
       "\n",
       "    .dataframe thead th {\n",
       "        text-align: right;\n",
       "    }\n",
       "</style>\n",
       "<table border=\"1\" class=\"dataframe\">\n",
       "  <thead>\n",
       "    <tr style=\"text-align: right;\">\n",
       "      <th></th>\n",
       "      <th>App No</th>\n",
       "      <th>Type</th>\n",
       "      <th>App Date (D/M/Y)</th>\n",
       "      <th>App Date (M)</th>\n",
       "      <th>App Date (M/Y)</th>\n",
       "      <th>App Date (Y)</th>\n",
       "      <th>WAV Course</th>\n",
       "      <th>Defensive Driving</th>\n",
       "      <th>Driver Exam</th>\n",
       "      <th>Medical Clearance Form</th>\n",
       "      <th>Other Requirements</th>\n",
       "      <th>Last Updated</th>\n",
       "      <th>Drug Test</th>\n",
       "      <th>FRU Interview Scheduled</th>\n",
       "      <th>Status</th>\n",
       "    </tr>\n",
       "  </thead>\n",
       "  <tbody>\n",
       "    <tr>\n",
       "      <th>411</th>\n",
       "      <td>5921772</td>\n",
       "      <td>PDR</td>\n",
       "      <td>1997-04-28</td>\n",
       "      <td>04</td>\n",
       "      <td>04/1997</td>\n",
       "      <td>1997</td>\n",
       "      <td>Not Applicable</td>\n",
       "      <td>Not Applicable</td>\n",
       "      <td>Not Applicable</td>\n",
       "      <td>Not Applicable</td>\n",
       "      <td>Fingerprints &amp; other items needed. Visit www.n...</td>\n",
       "      <td>04/01/2022 05:00:03 PM</td>\n",
       "      <td>Not Applicable</td>\n",
       "      <td>Not Applicable</td>\n",
       "      <td>Incomplete</td>\n",
       "    </tr>\n",
       "    <tr>\n",
       "      <th>6603</th>\n",
       "      <td>5921774</td>\n",
       "      <td>PDR</td>\n",
       "      <td>1997-04-28</td>\n",
       "      <td>04</td>\n",
       "      <td>04/1997</td>\n",
       "      <td>1997</td>\n",
       "      <td>Not Applicable</td>\n",
       "      <td>Not Applicable</td>\n",
       "      <td>Not Applicable</td>\n",
       "      <td>Not Applicable</td>\n",
       "      <td>Fingerprints &amp; other items needed. Visit www.n...</td>\n",
       "      <td>04/01/2022 05:00:03 PM</td>\n",
       "      <td>Not Applicable</td>\n",
       "      <td>Not Applicable</td>\n",
       "      <td>Incomplete</td>\n",
       "    </tr>\n",
       "    <tr>\n",
       "      <th>2880</th>\n",
       "      <td>5921773</td>\n",
       "      <td>PDR</td>\n",
       "      <td>1997-04-28</td>\n",
       "      <td>04</td>\n",
       "      <td>04/1997</td>\n",
       "      <td>1997</td>\n",
       "      <td>Not Applicable</td>\n",
       "      <td>Not Applicable</td>\n",
       "      <td>Not Applicable</td>\n",
       "      <td>Not Applicable</td>\n",
       "      <td>Fingerprints &amp; other items needed. Visit www.n...</td>\n",
       "      <td>04/01/2022 05:00:03 PM</td>\n",
       "      <td>Not Applicable</td>\n",
       "      <td>Not Applicable</td>\n",
       "      <td>Incomplete</td>\n",
       "    </tr>\n",
       "    <tr>\n",
       "      <th>795</th>\n",
       "      <td>5735329</td>\n",
       "      <td>HDR</td>\n",
       "      <td>2016-10-17</td>\n",
       "      <td>10</td>\n",
       "      <td>10/2016</td>\n",
       "      <td>2016</td>\n",
       "      <td>Complete</td>\n",
       "      <td>Complete</td>\n",
       "      <td>Needed</td>\n",
       "      <td>Complete</td>\n",
       "      <td>Copy of DMV license needed</td>\n",
       "      <td>04/01/2022 05:00:03 PM</td>\n",
       "      <td>Complete</td>\n",
       "      <td>Not Applicable</td>\n",
       "      <td>Incomplete</td>\n",
       "    </tr>\n",
       "    <tr>\n",
       "      <th>1142</th>\n",
       "      <td>5775919</td>\n",
       "      <td>HDR</td>\n",
       "      <td>2017-03-22</td>\n",
       "      <td>03</td>\n",
       "      <td>03/2017</td>\n",
       "      <td>2017</td>\n",
       "      <td>Complete</td>\n",
       "      <td>Complete</td>\n",
       "      <td>Needed</td>\n",
       "      <td>Complete</td>\n",
       "      <td>Not Applicable</td>\n",
       "      <td>04/01/2022 05:00:03 PM</td>\n",
       "      <td>Complete</td>\n",
       "      <td>Not Applicable</td>\n",
       "      <td>Incomplete</td>\n",
       "    </tr>\n",
       "    <tr>\n",
       "      <th>5329</th>\n",
       "      <td>5776947</td>\n",
       "      <td>HDR</td>\n",
       "      <td>2017-03-27</td>\n",
       "      <td>03</td>\n",
       "      <td>03/2017</td>\n",
       "      <td>2017</td>\n",
       "      <td>Complete</td>\n",
       "      <td>Complete</td>\n",
       "      <td>Needed</td>\n",
       "      <td>Complete</td>\n",
       "      <td>Not Applicable</td>\n",
       "      <td>04/01/2022 05:00:03 PM</td>\n",
       "      <td>Complete</td>\n",
       "      <td>Not Applicable</td>\n",
       "      <td>Incomplete</td>\n",
       "    </tr>\n",
       "    <tr>\n",
       "      <th>449</th>\n",
       "      <td>5748366</td>\n",
       "      <td>HDR</td>\n",
       "      <td>2017-05-29</td>\n",
       "      <td>05</td>\n",
       "      <td>05/2017</td>\n",
       "      <td>2017</td>\n",
       "      <td>Complete</td>\n",
       "      <td>Needed</td>\n",
       "      <td>Needed</td>\n",
       "      <td>Complete</td>\n",
       "      <td>Fingerprints, copy of DMV lic, other. Visit ww...</td>\n",
       "      <td>04/01/2022 05:00:03 PM</td>\n",
       "      <td>Needed</td>\n",
       "      <td>Not Applicable</td>\n",
       "      <td>Incomplete</td>\n",
       "    </tr>\n",
       "    <tr>\n",
       "      <th>3966</th>\n",
       "      <td>5747109</td>\n",
       "      <td>HDR</td>\n",
       "      <td>2017-05-29</td>\n",
       "      <td>05</td>\n",
       "      <td>05/2017</td>\n",
       "      <td>2017</td>\n",
       "      <td>Needed</td>\n",
       "      <td>Complete</td>\n",
       "      <td>Needed</td>\n",
       "      <td>Needed</td>\n",
       "      <td>Fingerprints needed; Copy of DMV license needed</td>\n",
       "      <td>04/01/2022 05:00:03 PM</td>\n",
       "      <td>Needed</td>\n",
       "      <td>Not Applicable</td>\n",
       "      <td>Incomplete</td>\n",
       "    </tr>\n",
       "    <tr>\n",
       "      <th>6418</th>\n",
       "      <td>5835813</td>\n",
       "      <td>HDR</td>\n",
       "      <td>2017-11-29</td>\n",
       "      <td>11</td>\n",
       "      <td>11/2017</td>\n",
       "      <td>2017</td>\n",
       "      <td>Complete</td>\n",
       "      <td>Complete</td>\n",
       "      <td>Complete</td>\n",
       "      <td>Complete</td>\n",
       "      <td>Fingerprints &amp; other items needed. Visit www.n...</td>\n",
       "      <td>04/01/2022 05:00:03 PM</td>\n",
       "      <td>Complete</td>\n",
       "      <td>Not Applicable</td>\n",
       "      <td>Incomplete</td>\n",
       "    </tr>\n",
       "    <tr>\n",
       "      <th>3910</th>\n",
       "      <td>5921782</td>\n",
       "      <td>HDR</td>\n",
       "      <td>2018-02-06</td>\n",
       "      <td>02</td>\n",
       "      <td>02/2018</td>\n",
       "      <td>2018</td>\n",
       "      <td>Needed</td>\n",
       "      <td>Complete</td>\n",
       "      <td>Needed</td>\n",
       "      <td>Complete</td>\n",
       "      <td>Copy of DMV license needed</td>\n",
       "      <td>04/01/2022 05:00:03 PM</td>\n",
       "      <td>Needed</td>\n",
       "      <td>Not Applicable</td>\n",
       "      <td>Incomplete</td>\n",
       "    </tr>\n",
       "    <tr>\n",
       "      <th>2894</th>\n",
       "      <td>5921784</td>\n",
       "      <td>HDR</td>\n",
       "      <td>2018-02-06</td>\n",
       "      <td>02</td>\n",
       "      <td>02/2018</td>\n",
       "      <td>2018</td>\n",
       "      <td>Needed</td>\n",
       "      <td>Complete</td>\n",
       "      <td>Needed</td>\n",
       "      <td>Complete</td>\n",
       "      <td>Copy of DMV license needed</td>\n",
       "      <td>04/01/2022 05:00:03 PM</td>\n",
       "      <td>Needed</td>\n",
       "      <td>Not Applicable</td>\n",
       "      <td>Incomplete</td>\n",
       "    </tr>\n",
       "    <tr>\n",
       "      <th>5326</th>\n",
       "      <td>5921787</td>\n",
       "      <td>HDR</td>\n",
       "      <td>2018-02-06</td>\n",
       "      <td>02</td>\n",
       "      <td>02/2018</td>\n",
       "      <td>2018</td>\n",
       "      <td>Needed</td>\n",
       "      <td>Complete</td>\n",
       "      <td>Needed</td>\n",
       "      <td>Complete</td>\n",
       "      <td>Copy of DMV license needed</td>\n",
       "      <td>04/01/2022 05:00:03 PM</td>\n",
       "      <td>Needed</td>\n",
       "      <td>Not Applicable</td>\n",
       "      <td>Incomplete</td>\n",
       "    </tr>\n",
       "    <tr>\n",
       "      <th>5894</th>\n",
       "      <td>5921786</td>\n",
       "      <td>HDR</td>\n",
       "      <td>2018-02-06</td>\n",
       "      <td>02</td>\n",
       "      <td>02/2018</td>\n",
       "      <td>2018</td>\n",
       "      <td>Needed</td>\n",
       "      <td>Complete</td>\n",
       "      <td>Needed</td>\n",
       "      <td>Complete</td>\n",
       "      <td>Copy of DMV license &amp; other items. Visit www.n...</td>\n",
       "      <td>04/01/2022 05:00:03 PM</td>\n",
       "      <td>Needed</td>\n",
       "      <td>Not Applicable</td>\n",
       "      <td>Incomplete</td>\n",
       "    </tr>\n",
       "    <tr>\n",
       "      <th>4222</th>\n",
       "      <td>5921785</td>\n",
       "      <td>HDR</td>\n",
       "      <td>2018-02-06</td>\n",
       "      <td>02</td>\n",
       "      <td>02/2018</td>\n",
       "      <td>2018</td>\n",
       "      <td>Needed</td>\n",
       "      <td>Complete</td>\n",
       "      <td>Needed</td>\n",
       "      <td>Complete</td>\n",
       "      <td>Open items needed. Visit www.nyc.gov/tlcup for...</td>\n",
       "      <td>04/01/2022 05:00:03 PM</td>\n",
       "      <td>Needed</td>\n",
       "      <td>Not Applicable</td>\n",
       "      <td>Incomplete</td>\n",
       "    </tr>\n",
       "    <tr>\n",
       "      <th>6688</th>\n",
       "      <td>5921796</td>\n",
       "      <td>HDR</td>\n",
       "      <td>2018-02-06</td>\n",
       "      <td>02</td>\n",
       "      <td>02/2018</td>\n",
       "      <td>2018</td>\n",
       "      <td>Needed</td>\n",
       "      <td>Complete</td>\n",
       "      <td>Needed</td>\n",
       "      <td>Complete</td>\n",
       "      <td>Copy of DMV license &amp; other items. Visit www.n...</td>\n",
       "      <td>04/01/2022 05:00:03 PM</td>\n",
       "      <td>Needed</td>\n",
       "      <td>Not Applicable</td>\n",
       "      <td>Incomplete</td>\n",
       "    </tr>\n",
       "    <tr>\n",
       "      <th>6848</th>\n",
       "      <td>5921779</td>\n",
       "      <td>HDR</td>\n",
       "      <td>2018-02-06</td>\n",
       "      <td>02</td>\n",
       "      <td>02/2018</td>\n",
       "      <td>2018</td>\n",
       "      <td>Complete</td>\n",
       "      <td>Needed</td>\n",
       "      <td>Needed</td>\n",
       "      <td>Complete</td>\n",
       "      <td>Open items needed. Visit www.nyc.gov/tlcup for...</td>\n",
       "      <td>04/01/2022 05:00:03 PM</td>\n",
       "      <td>Needed</td>\n",
       "      <td>Not Applicable</td>\n",
       "      <td>Incomplete</td>\n",
       "    </tr>\n",
       "    <tr>\n",
       "      <th>5043</th>\n",
       "      <td>5921783</td>\n",
       "      <td>HDR</td>\n",
       "      <td>2018-02-06</td>\n",
       "      <td>02</td>\n",
       "      <td>02/2018</td>\n",
       "      <td>2018</td>\n",
       "      <td>Needed</td>\n",
       "      <td>Complete</td>\n",
       "      <td>Needed</td>\n",
       "      <td>Complete</td>\n",
       "      <td>Copy of DMV license needed</td>\n",
       "      <td>04/01/2022 05:00:03 PM</td>\n",
       "      <td>Needed</td>\n",
       "      <td>Not Applicable</td>\n",
       "      <td>Incomplete</td>\n",
       "    </tr>\n",
       "    <tr>\n",
       "      <th>740</th>\n",
       "      <td>5921788</td>\n",
       "      <td>HDR</td>\n",
       "      <td>2018-02-06</td>\n",
       "      <td>02</td>\n",
       "      <td>02/2018</td>\n",
       "      <td>2018</td>\n",
       "      <td>Complete</td>\n",
       "      <td>Complete</td>\n",
       "      <td>Complete</td>\n",
       "      <td>Complete</td>\n",
       "      <td>Copy of DMV license needed</td>\n",
       "      <td>04/01/2022 05:00:03 PM</td>\n",
       "      <td>Needed</td>\n",
       "      <td>Not Applicable</td>\n",
       "      <td>Incomplete</td>\n",
       "    </tr>\n",
       "    <tr>\n",
       "      <th>3134</th>\n",
       "      <td>5869745</td>\n",
       "      <td>HDR</td>\n",
       "      <td>2018-04-27</td>\n",
       "      <td>04</td>\n",
       "      <td>04/2018</td>\n",
       "      <td>2018</td>\n",
       "      <td>Complete</td>\n",
       "      <td>Complete</td>\n",
       "      <td>Needed</td>\n",
       "      <td>Complete</td>\n",
       "      <td>Not Applicable</td>\n",
       "      <td>04/01/2022 05:00:03 PM</td>\n",
       "      <td>Complete</td>\n",
       "      <td>Not Applicable</td>\n",
       "      <td>Incomplete</td>\n",
       "    </tr>\n",
       "    <tr>\n",
       "      <th>5878</th>\n",
       "      <td>5955338</td>\n",
       "      <td>HDR</td>\n",
       "      <td>2019-11-21</td>\n",
       "      <td>11</td>\n",
       "      <td>11/2019</td>\n",
       "      <td>2019</td>\n",
       "      <td>Complete</td>\n",
       "      <td>Complete</td>\n",
       "      <td>Needed</td>\n",
       "      <td>Complete</td>\n",
       "      <td>Open items needed. Visit www.nyc.gov/tlcup for...</td>\n",
       "      <td>04/01/2022 05:00:03 PM</td>\n",
       "      <td>Complete</td>\n",
       "      <td>Not Applicable</td>\n",
       "      <td>Incomplete</td>\n",
       "    </tr>\n",
       "    <tr>\n",
       "      <th>1839</th>\n",
       "      <td>5955445</td>\n",
       "      <td>HDR</td>\n",
       "      <td>2019-11-22</td>\n",
       "      <td>11</td>\n",
       "      <td>11/2019</td>\n",
       "      <td>2019</td>\n",
       "      <td>Complete</td>\n",
       "      <td>Complete</td>\n",
       "      <td>Needed</td>\n",
       "      <td>Complete</td>\n",
       "      <td>Open items needed. Visit www.nyc.gov/tlcup for...</td>\n",
       "      <td>04/01/2022 05:00:03 PM</td>\n",
       "      <td>Complete</td>\n",
       "      <td>Not Applicable</td>\n",
       "      <td>Incomplete</td>\n",
       "    </tr>\n",
       "    <tr>\n",
       "      <th>1615</th>\n",
       "      <td>5955875</td>\n",
       "      <td>HDR</td>\n",
       "      <td>2019-12-01</td>\n",
       "      <td>12</td>\n",
       "      <td>12/2019</td>\n",
       "      <td>2019</td>\n",
       "      <td>Complete</td>\n",
       "      <td>Complete</td>\n",
       "      <td>Needed</td>\n",
       "      <td>Complete</td>\n",
       "      <td>Open items needed. Visit www.nyc.gov/tlcup for...</td>\n",
       "      <td>04/01/2022 05:00:03 PM</td>\n",
       "      <td>Complete</td>\n",
       "      <td>Not Applicable</td>\n",
       "      <td>Incomplete</td>\n",
       "    </tr>\n",
       "    <tr>\n",
       "      <th>2531</th>\n",
       "      <td>5955979</td>\n",
       "      <td>HDR</td>\n",
       "      <td>2019-12-02</td>\n",
       "      <td>12</td>\n",
       "      <td>12/2019</td>\n",
       "      <td>2019</td>\n",
       "      <td>Complete</td>\n",
       "      <td>Needed</td>\n",
       "      <td>Needed</td>\n",
       "      <td>Needed</td>\n",
       "      <td>Fingerprints, copy of DMV lic, other. Visit ww...</td>\n",
       "      <td>04/01/2022 05:00:03 PM</td>\n",
       "      <td>Needed</td>\n",
       "      <td>Not Applicable</td>\n",
       "      <td>Incomplete</td>\n",
       "    </tr>\n",
       "    <tr>\n",
       "      <th>5645</th>\n",
       "      <td>5956047</td>\n",
       "      <td>HDR</td>\n",
       "      <td>2019-12-03</td>\n",
       "      <td>12</td>\n",
       "      <td>12/2019</td>\n",
       "      <td>2019</td>\n",
       "      <td>Complete</td>\n",
       "      <td>Needed</td>\n",
       "      <td>Needed</td>\n",
       "      <td>Needed</td>\n",
       "      <td>Fingerprints &amp; other items needed. Visit www.n...</td>\n",
       "      <td>04/01/2022 05:00:03 PM</td>\n",
       "      <td>Complete</td>\n",
       "      <td>Not Applicable</td>\n",
       "      <td>Incomplete</td>\n",
       "    </tr>\n",
       "    <tr>\n",
       "      <th>3136</th>\n",
       "      <td>5955983</td>\n",
       "      <td>HDR</td>\n",
       "      <td>2019-12-03</td>\n",
       "      <td>12</td>\n",
       "      <td>12/2019</td>\n",
       "      <td>2019</td>\n",
       "      <td>Complete</td>\n",
       "      <td>Needed</td>\n",
       "      <td>Needed</td>\n",
       "      <td>Needed</td>\n",
       "      <td>Fingerprints, copy of DMV lic, other. Visit ww...</td>\n",
       "      <td>04/01/2022 05:00:03 PM</td>\n",
       "      <td>Needed</td>\n",
       "      <td>Not Applicable</td>\n",
       "      <td>Incomplete</td>\n",
       "    </tr>\n",
       "    <tr>\n",
       "      <th>542</th>\n",
       "      <td>5956050</td>\n",
       "      <td>HDR</td>\n",
       "      <td>2019-12-03</td>\n",
       "      <td>12</td>\n",
       "      <td>12/2019</td>\n",
       "      <td>2019</td>\n",
       "      <td>Complete</td>\n",
       "      <td>Needed</td>\n",
       "      <td>Needed</td>\n",
       "      <td>Needed</td>\n",
       "      <td>Fingerprints, copy of DMV lic, other. Visit ww...</td>\n",
       "      <td>04/01/2022 05:00:03 PM</td>\n",
       "      <td>Complete</td>\n",
       "      <td>Not Applicable</td>\n",
       "      <td>Incomplete</td>\n",
       "    </tr>\n",
       "    <tr>\n",
       "      <th>4389</th>\n",
       "      <td>5956044</td>\n",
       "      <td>HDR</td>\n",
       "      <td>2019-12-03</td>\n",
       "      <td>12</td>\n",
       "      <td>12/2019</td>\n",
       "      <td>2019</td>\n",
       "      <td>Needed</td>\n",
       "      <td>Needed</td>\n",
       "      <td>Needed</td>\n",
       "      <td>Needed</td>\n",
       "      <td>Copy of DMV license &amp; other items. Visit www.n...</td>\n",
       "      <td>04/01/2022 05:00:03 PM</td>\n",
       "      <td>Complete</td>\n",
       "      <td>Not Applicable</td>\n",
       "      <td>Incomplete</td>\n",
       "    </tr>\n",
       "    <tr>\n",
       "      <th>2905</th>\n",
       "      <td>5956045</td>\n",
       "      <td>HDR</td>\n",
       "      <td>2019-12-03</td>\n",
       "      <td>12</td>\n",
       "      <td>12/2019</td>\n",
       "      <td>2019</td>\n",
       "      <td>Needed</td>\n",
       "      <td>Complete</td>\n",
       "      <td>Needed</td>\n",
       "      <td>Needed</td>\n",
       "      <td>Open items needed. Visit www.nyc.gov/tlcup for...</td>\n",
       "      <td>04/01/2022 05:00:03 PM</td>\n",
       "      <td>Complete</td>\n",
       "      <td>Not Applicable</td>\n",
       "      <td>Incomplete</td>\n",
       "    </tr>\n",
       "    <tr>\n",
       "      <th>21</th>\n",
       "      <td>5956043</td>\n",
       "      <td>HDR</td>\n",
       "      <td>2019-12-03</td>\n",
       "      <td>12</td>\n",
       "      <td>12/2019</td>\n",
       "      <td>2019</td>\n",
       "      <td>Complete</td>\n",
       "      <td>Complete</td>\n",
       "      <td>Needed</td>\n",
       "      <td>Complete</td>\n",
       "      <td>Open items needed. Visit www.nyc.gov/tlcup for...</td>\n",
       "      <td>04/01/2022 05:00:03 PM</td>\n",
       "      <td>Complete</td>\n",
       "      <td>Not Applicable</td>\n",
       "      <td>Incomplete</td>\n",
       "    </tr>\n",
       "    <tr>\n",
       "      <th>1159</th>\n",
       "      <td>5956038</td>\n",
       "      <td>HDR</td>\n",
       "      <td>2019-12-03</td>\n",
       "      <td>12</td>\n",
       "      <td>12/2019</td>\n",
       "      <td>2019</td>\n",
       "      <td>Needed</td>\n",
       "      <td>Needed</td>\n",
       "      <td>Needed</td>\n",
       "      <td>Needed</td>\n",
       "      <td>Copy of DMV license needed</td>\n",
       "      <td>04/01/2022 05:00:03 PM</td>\n",
       "      <td>Complete</td>\n",
       "      <td>Not Applicable</td>\n",
       "      <td>Incomplete</td>\n",
       "    </tr>\n",
       "    <tr>\n",
       "      <th>4212</th>\n",
       "      <td>5956086</td>\n",
       "      <td>HDR</td>\n",
       "      <td>2019-12-04</td>\n",
       "      <td>12</td>\n",
       "      <td>12/2019</td>\n",
       "      <td>2019</td>\n",
       "      <td>Needed</td>\n",
       "      <td>Needed</td>\n",
       "      <td>Needed</td>\n",
       "      <td>Needed</td>\n",
       "      <td>Fingerprints, copy of DMV lic, other. Visit ww...</td>\n",
       "      <td>04/01/2022 05:00:03 PM</td>\n",
       "      <td>Needed</td>\n",
       "      <td>Not Applicable</td>\n",
       "      <td>Incomplete</td>\n",
       "    </tr>\n",
       "    <tr>\n",
       "      <th>1383</th>\n",
       "      <td>5956126</td>\n",
       "      <td>HDR</td>\n",
       "      <td>2019-12-04</td>\n",
       "      <td>12</td>\n",
       "      <td>12/2019</td>\n",
       "      <td>2019</td>\n",
       "      <td>Needed</td>\n",
       "      <td>Complete</td>\n",
       "      <td>Needed</td>\n",
       "      <td>Needed</td>\n",
       "      <td>Fingerprints needed</td>\n",
       "      <td>04/01/2022 05:00:03 PM</td>\n",
       "      <td>Needed</td>\n",
       "      <td>Not Applicable</td>\n",
       "      <td>Incomplete</td>\n",
       "    </tr>\n",
       "    <tr>\n",
       "      <th>3736</th>\n",
       "      <td>5956117</td>\n",
       "      <td>HDR</td>\n",
       "      <td>2019-12-04</td>\n",
       "      <td>12</td>\n",
       "      <td>12/2019</td>\n",
       "      <td>2019</td>\n",
       "      <td>Complete</td>\n",
       "      <td>Needed</td>\n",
       "      <td>Needed</td>\n",
       "      <td>Needed</td>\n",
       "      <td>Fingerprints needed</td>\n",
       "      <td>04/01/2022 05:00:03 PM</td>\n",
       "      <td>Complete</td>\n",
       "      <td>Not Applicable</td>\n",
       "      <td>Incomplete</td>\n",
       "    </tr>\n",
       "    <tr>\n",
       "      <th>3039</th>\n",
       "      <td>5956072</td>\n",
       "      <td>HDR</td>\n",
       "      <td>2019-12-04</td>\n",
       "      <td>12</td>\n",
       "      <td>12/2019</td>\n",
       "      <td>2019</td>\n",
       "      <td>Complete</td>\n",
       "      <td>Complete</td>\n",
       "      <td>Needed</td>\n",
       "      <td>Complete</td>\n",
       "      <td>Open items needed. Visit www.nyc.gov/tlcup for...</td>\n",
       "      <td>04/01/2022 05:00:03 PM</td>\n",
       "      <td>Complete</td>\n",
       "      <td>Not Applicable</td>\n",
       "      <td>Incomplete</td>\n",
       "    </tr>\n",
       "    <tr>\n",
       "      <th>5884</th>\n",
       "      <td>5956077</td>\n",
       "      <td>HDR</td>\n",
       "      <td>2019-12-04</td>\n",
       "      <td>12</td>\n",
       "      <td>12/2019</td>\n",
       "      <td>2019</td>\n",
       "      <td>Needed</td>\n",
       "      <td>Needed</td>\n",
       "      <td>Needed</td>\n",
       "      <td>Needed</td>\n",
       "      <td>Fingerprints needed; Copy of DMV license needed</td>\n",
       "      <td>04/01/2022 05:00:03 PM</td>\n",
       "      <td>Needed</td>\n",
       "      <td>Not Applicable</td>\n",
       "      <td>Incomplete</td>\n",
       "    </tr>\n",
       "    <tr>\n",
       "      <th>5578</th>\n",
       "      <td>5956201</td>\n",
       "      <td>HDR</td>\n",
       "      <td>2019-12-05</td>\n",
       "      <td>12</td>\n",
       "      <td>12/2019</td>\n",
       "      <td>2019</td>\n",
       "      <td>Needed</td>\n",
       "      <td>Complete</td>\n",
       "      <td>Needed</td>\n",
       "      <td>Needed</td>\n",
       "      <td>Fingerprints needed; Copy of DMV license needed</td>\n",
       "      <td>04/01/2022 05:00:03 PM</td>\n",
       "      <td>Needed</td>\n",
       "      <td>Not Applicable</td>\n",
       "      <td>Incomplete</td>\n",
       "    </tr>\n",
       "    <tr>\n",
       "      <th>3219</th>\n",
       "      <td>5956206</td>\n",
       "      <td>HDR</td>\n",
       "      <td>2019-12-05</td>\n",
       "      <td>12</td>\n",
       "      <td>12/2019</td>\n",
       "      <td>2019</td>\n",
       "      <td>Complete</td>\n",
       "      <td>Complete</td>\n",
       "      <td>Needed</td>\n",
       "      <td>Complete</td>\n",
       "      <td>Not Applicable</td>\n",
       "      <td>04/01/2022 05:00:03 PM</td>\n",
       "      <td>Complete</td>\n",
       "      <td>Not Applicable</td>\n",
       "      <td>Incomplete</td>\n",
       "    </tr>\n",
       "    <tr>\n",
       "      <th>5080</th>\n",
       "      <td>5956176</td>\n",
       "      <td>HDR</td>\n",
       "      <td>2019-12-05</td>\n",
       "      <td>12</td>\n",
       "      <td>12/2019</td>\n",
       "      <td>2019</td>\n",
       "      <td>Needed</td>\n",
       "      <td>Complete</td>\n",
       "      <td>Needed</td>\n",
       "      <td>Needed</td>\n",
       "      <td>Fingerprints needed; Copy of DMV license needed</td>\n",
       "      <td>04/01/2022 05:00:03 PM</td>\n",
       "      <td>Needed</td>\n",
       "      <td>Not Applicable</td>\n",
       "      <td>Incomplete</td>\n",
       "    </tr>\n",
       "    <tr>\n",
       "      <th>4758</th>\n",
       "      <td>5956199</td>\n",
       "      <td>HDR</td>\n",
       "      <td>2019-12-05</td>\n",
       "      <td>12</td>\n",
       "      <td>12/2019</td>\n",
       "      <td>2019</td>\n",
       "      <td>Needed</td>\n",
       "      <td>Needed</td>\n",
       "      <td>Needed</td>\n",
       "      <td>Needed</td>\n",
       "      <td>Fingerprints needed; Copy of DMV license needed</td>\n",
       "      <td>04/01/2022 05:00:03 PM</td>\n",
       "      <td>Needed</td>\n",
       "      <td>Not Applicable</td>\n",
       "      <td>Incomplete</td>\n",
       "    </tr>\n",
       "    <tr>\n",
       "      <th>512</th>\n",
       "      <td>5956208</td>\n",
       "      <td>HDR</td>\n",
       "      <td>2019-12-05</td>\n",
       "      <td>12</td>\n",
       "      <td>12/2019</td>\n",
       "      <td>2019</td>\n",
       "      <td>Needed</td>\n",
       "      <td>Needed</td>\n",
       "      <td>Needed</td>\n",
       "      <td>Needed</td>\n",
       "      <td>Not Applicable</td>\n",
       "      <td>04/01/2022 05:00:03 PM</td>\n",
       "      <td>Complete</td>\n",
       "      <td>Not Applicable</td>\n",
       "      <td>Incomplete</td>\n",
       "    </tr>\n",
       "    <tr>\n",
       "      <th>2423</th>\n",
       "      <td>5956137</td>\n",
       "      <td>HDR</td>\n",
       "      <td>2019-12-05</td>\n",
       "      <td>12</td>\n",
       "      <td>12/2019</td>\n",
       "      <td>2019</td>\n",
       "      <td>Complete</td>\n",
       "      <td>Complete</td>\n",
       "      <td>Needed</td>\n",
       "      <td>Needed</td>\n",
       "      <td>Not Applicable</td>\n",
       "      <td>04/01/2022 05:00:03 PM</td>\n",
       "      <td>Complete</td>\n",
       "      <td>Not Applicable</td>\n",
       "      <td>Incomplete</td>\n",
       "    </tr>\n",
       "    <tr>\n",
       "      <th>2241</th>\n",
       "      <td>5956207</td>\n",
       "      <td>HDR</td>\n",
       "      <td>2019-12-05</td>\n",
       "      <td>12</td>\n",
       "      <td>12/2019</td>\n",
       "      <td>2019</td>\n",
       "      <td>Complete</td>\n",
       "      <td>Complete</td>\n",
       "      <td>Needed</td>\n",
       "      <td>Complete</td>\n",
       "      <td>Not Applicable</td>\n",
       "      <td>04/01/2022 05:00:03 PM</td>\n",
       "      <td>Complete</td>\n",
       "      <td>Not Applicable</td>\n",
       "      <td>Incomplete</td>\n",
       "    </tr>\n",
       "    <tr>\n",
       "      <th>6674</th>\n",
       "      <td>5956170</td>\n",
       "      <td>HDR</td>\n",
       "      <td>2019-12-05</td>\n",
       "      <td>12</td>\n",
       "      <td>12/2019</td>\n",
       "      <td>2019</td>\n",
       "      <td>Complete</td>\n",
       "      <td>Needed</td>\n",
       "      <td>Needed</td>\n",
       "      <td>Needed</td>\n",
       "      <td>Copy of DMV license needed</td>\n",
       "      <td>04/01/2022 05:00:03 PM</td>\n",
       "      <td>Needed</td>\n",
       "      <td>Not Applicable</td>\n",
       "      <td>Incomplete</td>\n",
       "    </tr>\n",
       "    <tr>\n",
       "      <th>2854</th>\n",
       "      <td>5956193</td>\n",
       "      <td>HDR</td>\n",
       "      <td>2019-12-05</td>\n",
       "      <td>12</td>\n",
       "      <td>12/2019</td>\n",
       "      <td>2019</td>\n",
       "      <td>Complete</td>\n",
       "      <td>Complete</td>\n",
       "      <td>Needed</td>\n",
       "      <td>Complete</td>\n",
       "      <td>Not Applicable</td>\n",
       "      <td>04/01/2022 05:00:03 PM</td>\n",
       "      <td>Complete</td>\n",
       "      <td>Not Applicable</td>\n",
       "      <td>Incomplete</td>\n",
       "    </tr>\n",
       "    <tr>\n",
       "      <th>5333</th>\n",
       "      <td>5956221</td>\n",
       "      <td>HDR</td>\n",
       "      <td>2019-12-06</td>\n",
       "      <td>12</td>\n",
       "      <td>12/2019</td>\n",
       "      <td>2019</td>\n",
       "      <td>Needed</td>\n",
       "      <td>Complete</td>\n",
       "      <td>Needed</td>\n",
       "      <td>Complete</td>\n",
       "      <td>Not Applicable</td>\n",
       "      <td>04/01/2022 05:00:03 PM</td>\n",
       "      <td>Complete</td>\n",
       "      <td>Not Applicable</td>\n",
       "      <td>Incomplete</td>\n",
       "    </tr>\n",
       "    <tr>\n",
       "      <th>5703</th>\n",
       "      <td>5956280</td>\n",
       "      <td>HDR</td>\n",
       "      <td>2019-12-06</td>\n",
       "      <td>12</td>\n",
       "      <td>12/2019</td>\n",
       "      <td>2019</td>\n",
       "      <td>Needed</td>\n",
       "      <td>Needed</td>\n",
       "      <td>Needed</td>\n",
       "      <td>Needed</td>\n",
       "      <td>Fingerprints needed</td>\n",
       "      <td>04/01/2022 05:00:03 PM</td>\n",
       "      <td>Needed</td>\n",
       "      <td>Not Applicable</td>\n",
       "      <td>Incomplete</td>\n",
       "    </tr>\n",
       "    <tr>\n",
       "      <th>3850</th>\n",
       "      <td>5956217</td>\n",
       "      <td>HDR</td>\n",
       "      <td>2019-12-06</td>\n",
       "      <td>12</td>\n",
       "      <td>12/2019</td>\n",
       "      <td>2019</td>\n",
       "      <td>Complete</td>\n",
       "      <td>Complete</td>\n",
       "      <td>Needed</td>\n",
       "      <td>Needed</td>\n",
       "      <td>Copy of DMV license needed</td>\n",
       "      <td>04/01/2022 05:00:03 PM</td>\n",
       "      <td>Complete</td>\n",
       "      <td>Not Applicable</td>\n",
       "      <td>Incomplete</td>\n",
       "    </tr>\n",
       "    <tr>\n",
       "      <th>5565</th>\n",
       "      <td>5956283</td>\n",
       "      <td>HDR</td>\n",
       "      <td>2019-12-07</td>\n",
       "      <td>12</td>\n",
       "      <td>12/2019</td>\n",
       "      <td>2019</td>\n",
       "      <td>Needed</td>\n",
       "      <td>Complete</td>\n",
       "      <td>Needed</td>\n",
       "      <td>Needed</td>\n",
       "      <td>Fingerprints needed</td>\n",
       "      <td>04/01/2022 05:00:03 PM</td>\n",
       "      <td>Needed</td>\n",
       "      <td>Not Applicable</td>\n",
       "      <td>Incomplete</td>\n",
       "    </tr>\n",
       "    <tr>\n",
       "      <th>6713</th>\n",
       "      <td>5956286</td>\n",
       "      <td>HDR</td>\n",
       "      <td>2019-12-07</td>\n",
       "      <td>12</td>\n",
       "      <td>12/2019</td>\n",
       "      <td>2019</td>\n",
       "      <td>Complete</td>\n",
       "      <td>Complete</td>\n",
       "      <td>Needed</td>\n",
       "      <td>Needed</td>\n",
       "      <td>Not Applicable</td>\n",
       "      <td>04/01/2022 05:00:03 PM</td>\n",
       "      <td>Complete</td>\n",
       "      <td>Not Applicable</td>\n",
       "      <td>Incomplete</td>\n",
       "    </tr>\n",
       "    <tr>\n",
       "      <th>323</th>\n",
       "      <td>5956284</td>\n",
       "      <td>HDR</td>\n",
       "      <td>2019-12-07</td>\n",
       "      <td>12</td>\n",
       "      <td>12/2019</td>\n",
       "      <td>2019</td>\n",
       "      <td>Needed</td>\n",
       "      <td>Complete</td>\n",
       "      <td>Needed</td>\n",
       "      <td>Needed</td>\n",
       "      <td>Fingerprints needed; Copy of DMV license needed</td>\n",
       "      <td>04/01/2022 05:00:03 PM</td>\n",
       "      <td>Needed</td>\n",
       "      <td>Not Applicable</td>\n",
       "      <td>Incomplete</td>\n",
       "    </tr>\n",
       "  </tbody>\n",
       "</table>\n",
       "</div>"
      ],
      "text/plain": [
       "       App No Type App Date (D/M/Y) App Date (M) App Date (M/Y) App Date (Y)  \\\n",
       "411   5921772  PDR       1997-04-28           04        04/1997         1997   \n",
       "6603  5921774  PDR       1997-04-28           04        04/1997         1997   \n",
       "2880  5921773  PDR       1997-04-28           04        04/1997         1997   \n",
       "795   5735329  HDR       2016-10-17           10        10/2016         2016   \n",
       "1142  5775919  HDR       2017-03-22           03        03/2017         2017   \n",
       "5329  5776947  HDR       2017-03-27           03        03/2017         2017   \n",
       "449   5748366  HDR       2017-05-29           05        05/2017         2017   \n",
       "3966  5747109  HDR       2017-05-29           05        05/2017         2017   \n",
       "6418  5835813  HDR       2017-11-29           11        11/2017         2017   \n",
       "3910  5921782  HDR       2018-02-06           02        02/2018         2018   \n",
       "2894  5921784  HDR       2018-02-06           02        02/2018         2018   \n",
       "5326  5921787  HDR       2018-02-06           02        02/2018         2018   \n",
       "5894  5921786  HDR       2018-02-06           02        02/2018         2018   \n",
       "4222  5921785  HDR       2018-02-06           02        02/2018         2018   \n",
       "6688  5921796  HDR       2018-02-06           02        02/2018         2018   \n",
       "6848  5921779  HDR       2018-02-06           02        02/2018         2018   \n",
       "5043  5921783  HDR       2018-02-06           02        02/2018         2018   \n",
       "740   5921788  HDR       2018-02-06           02        02/2018         2018   \n",
       "3134  5869745  HDR       2018-04-27           04        04/2018         2018   \n",
       "5878  5955338  HDR       2019-11-21           11        11/2019         2019   \n",
       "1839  5955445  HDR       2019-11-22           11        11/2019         2019   \n",
       "1615  5955875  HDR       2019-12-01           12        12/2019         2019   \n",
       "2531  5955979  HDR       2019-12-02           12        12/2019         2019   \n",
       "5645  5956047  HDR       2019-12-03           12        12/2019         2019   \n",
       "3136  5955983  HDR       2019-12-03           12        12/2019         2019   \n",
       "542   5956050  HDR       2019-12-03           12        12/2019         2019   \n",
       "4389  5956044  HDR       2019-12-03           12        12/2019         2019   \n",
       "2905  5956045  HDR       2019-12-03           12        12/2019         2019   \n",
       "21    5956043  HDR       2019-12-03           12        12/2019         2019   \n",
       "1159  5956038  HDR       2019-12-03           12        12/2019         2019   \n",
       "4212  5956086  HDR       2019-12-04           12        12/2019         2019   \n",
       "1383  5956126  HDR       2019-12-04           12        12/2019         2019   \n",
       "3736  5956117  HDR       2019-12-04           12        12/2019         2019   \n",
       "3039  5956072  HDR       2019-12-04           12        12/2019         2019   \n",
       "5884  5956077  HDR       2019-12-04           12        12/2019         2019   \n",
       "5578  5956201  HDR       2019-12-05           12        12/2019         2019   \n",
       "3219  5956206  HDR       2019-12-05           12        12/2019         2019   \n",
       "5080  5956176  HDR       2019-12-05           12        12/2019         2019   \n",
       "4758  5956199  HDR       2019-12-05           12        12/2019         2019   \n",
       "512   5956208  HDR       2019-12-05           12        12/2019         2019   \n",
       "2423  5956137  HDR       2019-12-05           12        12/2019         2019   \n",
       "2241  5956207  HDR       2019-12-05           12        12/2019         2019   \n",
       "6674  5956170  HDR       2019-12-05           12        12/2019         2019   \n",
       "2854  5956193  HDR       2019-12-05           12        12/2019         2019   \n",
       "5333  5956221  HDR       2019-12-06           12        12/2019         2019   \n",
       "5703  5956280  HDR       2019-12-06           12        12/2019         2019   \n",
       "3850  5956217  HDR       2019-12-06           12        12/2019         2019   \n",
       "5565  5956283  HDR       2019-12-07           12        12/2019         2019   \n",
       "6713  5956286  HDR       2019-12-07           12        12/2019         2019   \n",
       "323   5956284  HDR       2019-12-07           12        12/2019         2019   \n",
       "\n",
       "          WAV Course Defensive Driving     Driver Exam Medical Clearance Form  \\\n",
       "411   Not Applicable    Not Applicable  Not Applicable         Not Applicable   \n",
       "6603  Not Applicable    Not Applicable  Not Applicable         Not Applicable   \n",
       "2880  Not Applicable    Not Applicable  Not Applicable         Not Applicable   \n",
       "795         Complete          Complete          Needed               Complete   \n",
       "1142        Complete          Complete          Needed               Complete   \n",
       "5329        Complete          Complete          Needed               Complete   \n",
       "449         Complete            Needed          Needed               Complete   \n",
       "3966          Needed          Complete          Needed                 Needed   \n",
       "6418        Complete          Complete        Complete               Complete   \n",
       "3910          Needed          Complete          Needed               Complete   \n",
       "2894          Needed          Complete          Needed               Complete   \n",
       "5326          Needed          Complete          Needed               Complete   \n",
       "5894          Needed          Complete          Needed               Complete   \n",
       "4222          Needed          Complete          Needed               Complete   \n",
       "6688          Needed          Complete          Needed               Complete   \n",
       "6848        Complete            Needed          Needed               Complete   \n",
       "5043          Needed          Complete          Needed               Complete   \n",
       "740         Complete          Complete        Complete               Complete   \n",
       "3134        Complete          Complete          Needed               Complete   \n",
       "5878        Complete          Complete          Needed               Complete   \n",
       "1839        Complete          Complete          Needed               Complete   \n",
       "1615        Complete          Complete          Needed               Complete   \n",
       "2531        Complete            Needed          Needed                 Needed   \n",
       "5645        Complete            Needed          Needed                 Needed   \n",
       "3136        Complete            Needed          Needed                 Needed   \n",
       "542         Complete            Needed          Needed                 Needed   \n",
       "4389          Needed            Needed          Needed                 Needed   \n",
       "2905          Needed          Complete          Needed                 Needed   \n",
       "21          Complete          Complete          Needed               Complete   \n",
       "1159          Needed            Needed          Needed                 Needed   \n",
       "4212          Needed            Needed          Needed                 Needed   \n",
       "1383          Needed          Complete          Needed                 Needed   \n",
       "3736        Complete            Needed          Needed                 Needed   \n",
       "3039        Complete          Complete          Needed               Complete   \n",
       "5884          Needed            Needed          Needed                 Needed   \n",
       "5578          Needed          Complete          Needed                 Needed   \n",
       "3219        Complete          Complete          Needed               Complete   \n",
       "5080          Needed          Complete          Needed                 Needed   \n",
       "4758          Needed            Needed          Needed                 Needed   \n",
       "512           Needed            Needed          Needed                 Needed   \n",
       "2423        Complete          Complete          Needed                 Needed   \n",
       "2241        Complete          Complete          Needed               Complete   \n",
       "6674        Complete            Needed          Needed                 Needed   \n",
       "2854        Complete          Complete          Needed               Complete   \n",
       "5333          Needed          Complete          Needed               Complete   \n",
       "5703          Needed            Needed          Needed                 Needed   \n",
       "3850        Complete          Complete          Needed                 Needed   \n",
       "5565          Needed          Complete          Needed                 Needed   \n",
       "6713        Complete          Complete          Needed                 Needed   \n",
       "323           Needed          Complete          Needed                 Needed   \n",
       "\n",
       "                                     Other Requirements  \\\n",
       "411   Fingerprints & other items needed. Visit www.n...   \n",
       "6603  Fingerprints & other items needed. Visit www.n...   \n",
       "2880  Fingerprints & other items needed. Visit www.n...   \n",
       "795                          Copy of DMV license needed   \n",
       "1142                                     Not Applicable   \n",
       "5329                                     Not Applicable   \n",
       "449   Fingerprints, copy of DMV lic, other. Visit ww...   \n",
       "3966    Fingerprints needed; Copy of DMV license needed   \n",
       "6418  Fingerprints & other items needed. Visit www.n...   \n",
       "3910                         Copy of DMV license needed   \n",
       "2894                         Copy of DMV license needed   \n",
       "5326                         Copy of DMV license needed   \n",
       "5894  Copy of DMV license & other items. Visit www.n...   \n",
       "4222  Open items needed. Visit www.nyc.gov/tlcup for...   \n",
       "6688  Copy of DMV license & other items. Visit www.n...   \n",
       "6848  Open items needed. Visit www.nyc.gov/tlcup for...   \n",
       "5043                         Copy of DMV license needed   \n",
       "740                          Copy of DMV license needed   \n",
       "3134                                     Not Applicable   \n",
       "5878  Open items needed. Visit www.nyc.gov/tlcup for...   \n",
       "1839  Open items needed. Visit www.nyc.gov/tlcup for...   \n",
       "1615  Open items needed. Visit www.nyc.gov/tlcup for...   \n",
       "2531  Fingerprints, copy of DMV lic, other. Visit ww...   \n",
       "5645  Fingerprints & other items needed. Visit www.n...   \n",
       "3136  Fingerprints, copy of DMV lic, other. Visit ww...   \n",
       "542   Fingerprints, copy of DMV lic, other. Visit ww...   \n",
       "4389  Copy of DMV license & other items. Visit www.n...   \n",
       "2905  Open items needed. Visit www.nyc.gov/tlcup for...   \n",
       "21    Open items needed. Visit www.nyc.gov/tlcup for...   \n",
       "1159                         Copy of DMV license needed   \n",
       "4212  Fingerprints, copy of DMV lic, other. Visit ww...   \n",
       "1383                                Fingerprints needed   \n",
       "3736                                Fingerprints needed   \n",
       "3039  Open items needed. Visit www.nyc.gov/tlcup for...   \n",
       "5884    Fingerprints needed; Copy of DMV license needed   \n",
       "5578    Fingerprints needed; Copy of DMV license needed   \n",
       "3219                                     Not Applicable   \n",
       "5080    Fingerprints needed; Copy of DMV license needed   \n",
       "4758    Fingerprints needed; Copy of DMV license needed   \n",
       "512                                      Not Applicable   \n",
       "2423                                     Not Applicable   \n",
       "2241                                     Not Applicable   \n",
       "6674                         Copy of DMV license needed   \n",
       "2854                                     Not Applicable   \n",
       "5333                                     Not Applicable   \n",
       "5703                                Fingerprints needed   \n",
       "3850                         Copy of DMV license needed   \n",
       "5565                                Fingerprints needed   \n",
       "6713                                     Not Applicable   \n",
       "323     Fingerprints needed; Copy of DMV license needed   \n",
       "\n",
       "                Last Updated       Drug Test FRU Interview Scheduled  \\\n",
       "411   04/01/2022 05:00:03 PM  Not Applicable          Not Applicable   \n",
       "6603  04/01/2022 05:00:03 PM  Not Applicable          Not Applicable   \n",
       "2880  04/01/2022 05:00:03 PM  Not Applicable          Not Applicable   \n",
       "795   04/01/2022 05:00:03 PM        Complete          Not Applicable   \n",
       "1142  04/01/2022 05:00:03 PM        Complete          Not Applicable   \n",
       "5329  04/01/2022 05:00:03 PM        Complete          Not Applicable   \n",
       "449   04/01/2022 05:00:03 PM          Needed          Not Applicable   \n",
       "3966  04/01/2022 05:00:03 PM          Needed          Not Applicable   \n",
       "6418  04/01/2022 05:00:03 PM        Complete          Not Applicable   \n",
       "3910  04/01/2022 05:00:03 PM          Needed          Not Applicable   \n",
       "2894  04/01/2022 05:00:03 PM          Needed          Not Applicable   \n",
       "5326  04/01/2022 05:00:03 PM          Needed          Not Applicable   \n",
       "5894  04/01/2022 05:00:03 PM          Needed          Not Applicable   \n",
       "4222  04/01/2022 05:00:03 PM          Needed          Not Applicable   \n",
       "6688  04/01/2022 05:00:03 PM          Needed          Not Applicable   \n",
       "6848  04/01/2022 05:00:03 PM          Needed          Not Applicable   \n",
       "5043  04/01/2022 05:00:03 PM          Needed          Not Applicable   \n",
       "740   04/01/2022 05:00:03 PM          Needed          Not Applicable   \n",
       "3134  04/01/2022 05:00:03 PM        Complete          Not Applicable   \n",
       "5878  04/01/2022 05:00:03 PM        Complete          Not Applicable   \n",
       "1839  04/01/2022 05:00:03 PM        Complete          Not Applicable   \n",
       "1615  04/01/2022 05:00:03 PM        Complete          Not Applicable   \n",
       "2531  04/01/2022 05:00:03 PM          Needed          Not Applicable   \n",
       "5645  04/01/2022 05:00:03 PM        Complete          Not Applicable   \n",
       "3136  04/01/2022 05:00:03 PM          Needed          Not Applicable   \n",
       "542   04/01/2022 05:00:03 PM        Complete          Not Applicable   \n",
       "4389  04/01/2022 05:00:03 PM        Complete          Not Applicable   \n",
       "2905  04/01/2022 05:00:03 PM        Complete          Not Applicable   \n",
       "21    04/01/2022 05:00:03 PM        Complete          Not Applicable   \n",
       "1159  04/01/2022 05:00:03 PM        Complete          Not Applicable   \n",
       "4212  04/01/2022 05:00:03 PM          Needed          Not Applicable   \n",
       "1383  04/01/2022 05:00:03 PM          Needed          Not Applicable   \n",
       "3736  04/01/2022 05:00:03 PM        Complete          Not Applicable   \n",
       "3039  04/01/2022 05:00:03 PM        Complete          Not Applicable   \n",
       "5884  04/01/2022 05:00:03 PM          Needed          Not Applicable   \n",
       "5578  04/01/2022 05:00:03 PM          Needed          Not Applicable   \n",
       "3219  04/01/2022 05:00:03 PM        Complete          Not Applicable   \n",
       "5080  04/01/2022 05:00:03 PM          Needed          Not Applicable   \n",
       "4758  04/01/2022 05:00:03 PM          Needed          Not Applicable   \n",
       "512   04/01/2022 05:00:03 PM        Complete          Not Applicable   \n",
       "2423  04/01/2022 05:00:03 PM        Complete          Not Applicable   \n",
       "2241  04/01/2022 05:00:03 PM        Complete          Not Applicable   \n",
       "6674  04/01/2022 05:00:03 PM          Needed          Not Applicable   \n",
       "2854  04/01/2022 05:00:03 PM        Complete          Not Applicable   \n",
       "5333  04/01/2022 05:00:03 PM        Complete          Not Applicable   \n",
       "5703  04/01/2022 05:00:03 PM          Needed          Not Applicable   \n",
       "3850  04/01/2022 05:00:03 PM        Complete          Not Applicable   \n",
       "5565  04/01/2022 05:00:03 PM          Needed          Not Applicable   \n",
       "6713  04/01/2022 05:00:03 PM        Complete          Not Applicable   \n",
       "323   04/01/2022 05:00:03 PM          Needed          Not Applicable   \n",
       "\n",
       "          Status  \n",
       "411   Incomplete  \n",
       "6603  Incomplete  \n",
       "2880  Incomplete  \n",
       "795   Incomplete  \n",
       "1142  Incomplete  \n",
       "5329  Incomplete  \n",
       "449   Incomplete  \n",
       "3966  Incomplete  \n",
       "6418  Incomplete  \n",
       "3910  Incomplete  \n",
       "2894  Incomplete  \n",
       "5326  Incomplete  \n",
       "5894  Incomplete  \n",
       "4222  Incomplete  \n",
       "6688  Incomplete  \n",
       "6848  Incomplete  \n",
       "5043  Incomplete  \n",
       "740   Incomplete  \n",
       "3134  Incomplete  \n",
       "5878  Incomplete  \n",
       "1839  Incomplete  \n",
       "1615  Incomplete  \n",
       "2531  Incomplete  \n",
       "5645  Incomplete  \n",
       "3136  Incomplete  \n",
       "542   Incomplete  \n",
       "4389  Incomplete  \n",
       "2905  Incomplete  \n",
       "21    Incomplete  \n",
       "1159  Incomplete  \n",
       "4212  Incomplete  \n",
       "1383  Incomplete  \n",
       "3736  Incomplete  \n",
       "3039  Incomplete  \n",
       "5884  Incomplete  \n",
       "5578  Incomplete  \n",
       "3219  Incomplete  \n",
       "5080  Incomplete  \n",
       "4758  Incomplete  \n",
       "512   Incomplete  \n",
       "2423  Incomplete  \n",
       "2241  Incomplete  \n",
       "6674  Incomplete  \n",
       "2854  Incomplete  \n",
       "5333  Incomplete  \n",
       "5703  Incomplete  \n",
       "3850  Incomplete  \n",
       "5565  Incomplete  \n",
       "6713  Incomplete  \n",
       "323   Incomplete  "
      ]
     },
     "execution_count": 188,
     "metadata": {},
     "output_type": "execute_result"
    }
   ],
   "source": [
    "month_ = df['App Date (M/D/Y)'].str[:2].rename('App Date (M)')\n",
    "year_ = df['App Date (M/D/Y)'].str[-4:].rename('App Date (Y)')\n",
    "day_ = df['App Date (M/D/Y)'].str[3:5].rename('App Date (D)')\n",
    "daymonthyear_ = day_ + '/' + month_ + '/' + year_\n",
    "df['App Date (M/D/Y)'] = pd.DataFrame(daymonthyear_)\n",
    "df = df.rename(columns={'App Date (M/D/Y)': 'App Date (D/M/Y)'})\n",
    "\n",
    "monthyear_ = (month_ + '/' + year_).rename('App Date (M/Y)')\n",
    "df2 = pd.concat([df,pd.DataFrame(year_), pd.DataFrame(monthyear_), pd.DataFrame(month_)],axis=1)\n",
    "cols = df2.columns.tolist()\n",
    "cols[-1],cols[3], cols[-2], cols[4], cols[-3], cols[5] = cols[3], cols[-1], cols[4], cols[-2], cols[5], cols[-3]\n",
    "df2 = df2[cols]\n",
    "df2['App Date (D/M/Y)'] = pd.to_datetime(df2['App Date (D/M/Y)'],dayfirst=True)\n",
    "df2 = df2.sort_values(by='App Date (D/M/Y)')\n",
    "df2.head(50)"
   ]
  },
  {
   "cell_type": "code",
   "execution_count": 201,
   "id": "368ffdf2",
   "metadata": {},
   "outputs": [
    {
     "data": {
      "text/html": [
       "<div>\n",
       "<style scoped>\n",
       "    .dataframe tbody tr th:only-of-type {\n",
       "        vertical-align: middle;\n",
       "    }\n",
       "\n",
       "    .dataframe tbody tr th {\n",
       "        vertical-align: top;\n",
       "    }\n",
       "\n",
       "    .dataframe thead tr th {\n",
       "        text-align: left;\n",
       "    }\n",
       "</style>\n",
       "<table border=\"1\" class=\"dataframe\">\n",
       "  <thead>\n",
       "    <tr>\n",
       "      <th></th>\n",
       "      <th>App Date (Y/M)</th>\n",
       "      <th>App No</th>\n",
       "    </tr>\n",
       "    <tr>\n",
       "      <th></th>\n",
       "      <th></th>\n",
       "      <th>count</th>\n",
       "    </tr>\n",
       "  </thead>\n",
       "  <tbody>\n",
       "    <tr>\n",
       "      <th>11</th>\n",
       "      <td>1997-04</td>\n",
       "      <td>3</td>\n",
       "    </tr>\n",
       "    <tr>\n",
       "      <th>27</th>\n",
       "      <td>2016-10</td>\n",
       "      <td>1</td>\n",
       "    </tr>\n",
       "    <tr>\n",
       "      <th>7</th>\n",
       "      <td>2017-03</td>\n",
       "      <td>2</td>\n",
       "    </tr>\n",
       "    <tr>\n",
       "      <th>16</th>\n",
       "      <td>2017-05</td>\n",
       "      <td>2</td>\n",
       "    </tr>\n",
       "    <tr>\n",
       "      <th>30</th>\n",
       "      <td>2017-11</td>\n",
       "      <td>1</td>\n",
       "    </tr>\n",
       "  </tbody>\n",
       "</table>\n",
       "</div>"
      ],
      "text/plain": [
       "   App Date (Y/M) App No\n",
       "                   count\n",
       "11        1997-04      3\n",
       "27        2016-10      1\n",
       "7         2017-03      2\n",
       "16        2017-05      2\n",
       "30        2017-11      1"
      ]
     },
     "execution_count": 201,
     "metadata": {},
     "output_type": "execute_result"
    }
   ],
   "source": [
    "group = df2.groupby(['App Date (M/Y)'], as_index = False)\n",
    "df3 = group.agg({'App No':['count']})\n",
    "df3['App Date (M/Y)'] = pd.to_datetime(df3['App Date (M/Y)'])\n",
    "df3 = df3.sort_values(by='App Date (M/Y)')\n",
    "df3['App Date (M/Y)'] = df3['App Date (M/Y)'].astype(str)\n",
    "# df3.sort_values(['App Date (M/Y)'], inplace=True)\n",
    "df3['App Date (M/Y)'] = df3['App Date (M/Y)'].str[:7]\n",
    "df3 = df3.rename(columns={'App Date (M/Y)': 'App Date (Y/M)'})\n",
    "df3.head()"
   ]
  },
  {
   "cell_type": "code",
   "execution_count": 205,
   "id": "b8e7f291",
   "metadata": {},
   "outputs": [
    {
     "data": {
      "text/html": [
       "        <script type=\"text/javascript\">\n",
       "        window.PlotlyConfig = {MathJaxConfig: 'local'};\n",
       "        if (window.MathJax) {MathJax.Hub.Config({SVG: {font: \"STIX-Web\"}});}\n",
       "        if (typeof require !== 'undefined') {\n",
       "        require.undef(\"plotly\");\n",
       "        requirejs.config({\n",
       "            paths: {\n",
       "                'plotly': ['https://cdn.plot.ly/plotly-2.9.0.min']\n",
       "            }\n",
       "        });\n",
       "        require(['plotly'], function(Plotly) {\n",
       "            window._Plotly = Plotly;\n",
       "        });\n",
       "        }\n",
       "        </script>\n",
       "        "
      ]
     },
     "metadata": {},
     "output_type": "display_data"
    },
    {
     "data": {
      "application/vnd.plotly.v1+json": {
       "config": {
        "linkText": "Export to plot.ly",
        "plotlyServerURL": "https://plot.ly",
        "showLink": false
       },
       "data": [
        {
         "text": [
          "1997-04",
          "2016-10",
          "2017-03",
          "2017-05",
          "2017-11",
          "2018-02",
          "2018-04",
          "2019-11",
          "2019-12",
          "2020-01",
          "2020-02",
          "2020-03",
          "2020-04",
          "2020-05",
          "2020-06",
          "2020-07",
          "2020-08",
          "2020-09",
          "2020-10",
          "2020-11",
          "2020-12",
          "2021-01",
          "2021-02",
          "2021-03",
          "2021-04",
          "2021-05",
          "2021-06",
          "2021-07",
          "2021-08",
          "2021-09",
          "2021-10",
          "2021-11",
          "2021-12",
          "2022-01",
          "2022-02",
          "2022-03",
          "2022-04"
         ],
         "type": "bar",
         "x": [
          "1997-04",
          "2016-10",
          "2017-03",
          "2017-05",
          "2017-11",
          "2018-02",
          "2018-04",
          "2019-11",
          "2019-12",
          "2020-01",
          "2020-02",
          "2020-03",
          "2020-04",
          "2020-05",
          "2020-06",
          "2020-07",
          "2020-08",
          "2020-09",
          "2020-10",
          "2020-11",
          "2020-12",
          "2021-01",
          "2021-02",
          "2021-03",
          "2021-04",
          "2021-05",
          "2021-06",
          "2021-07",
          "2021-08",
          "2021-09",
          "2021-10",
          "2021-11",
          "2021-12",
          "2022-01",
          "2022-02",
          "2022-03",
          "2022-04"
         ],
         "y": [
          [
           3
          ],
          [
           1
          ],
          [
           2
          ],
          [
           2
          ],
          [
           1
          ],
          [
           9
          ],
          [
           1
          ],
          [
           2
          ],
          [
           125
          ],
          [
           210
          ],
          [
           209
          ],
          [
           199
          ],
          [
           16
          ],
          [
           46
          ],
          [
           59
          ],
          [
           65
          ],
          [
           90
          ],
          [
           73
          ],
          [
           86
          ],
          [
           65
          ],
          [
           74
          ],
          [
           78
          ],
          [
           63
          ],
          [
           142
          ],
          [
           149
          ],
          [
           175
          ],
          [
           185
          ],
          [
           228
          ],
          [
           276
          ],
          [
           374
          ],
          [
           361
          ],
          [
           416
          ],
          [
           446
          ],
          [
           549
          ],
          [
           795
          ],
          [
           1489
          ],
          [
           44
          ]
         ]
        }
       ],
       "layout": {
        "template": {
         "data": {
          "bar": [
           {
            "error_x": {
             "color": "#2a3f5f"
            },
            "error_y": {
             "color": "#2a3f5f"
            },
            "marker": {
             "line": {
              "color": "#E5ECF6",
              "width": 0.5
             },
             "pattern": {
              "fillmode": "overlay",
              "size": 10,
              "solidity": 0.2
             }
            },
            "type": "bar"
           }
          ],
          "barpolar": [
           {
            "marker": {
             "line": {
              "color": "#E5ECF6",
              "width": 0.5
             },
             "pattern": {
              "fillmode": "overlay",
              "size": 10,
              "solidity": 0.2
             }
            },
            "type": "barpolar"
           }
          ],
          "carpet": [
           {
            "aaxis": {
             "endlinecolor": "#2a3f5f",
             "gridcolor": "white",
             "linecolor": "white",
             "minorgridcolor": "white",
             "startlinecolor": "#2a3f5f"
            },
            "baxis": {
             "endlinecolor": "#2a3f5f",
             "gridcolor": "white",
             "linecolor": "white",
             "minorgridcolor": "white",
             "startlinecolor": "#2a3f5f"
            },
            "type": "carpet"
           }
          ],
          "choropleth": [
           {
            "colorbar": {
             "outlinewidth": 0,
             "ticks": ""
            },
            "type": "choropleth"
           }
          ],
          "contour": [
           {
            "colorbar": {
             "outlinewidth": 0,
             "ticks": ""
            },
            "colorscale": [
             [
              0,
              "#0d0887"
             ],
             [
              0.1111111111111111,
              "#46039f"
             ],
             [
              0.2222222222222222,
              "#7201a8"
             ],
             [
              0.3333333333333333,
              "#9c179e"
             ],
             [
              0.4444444444444444,
              "#bd3786"
             ],
             [
              0.5555555555555556,
              "#d8576b"
             ],
             [
              0.6666666666666666,
              "#ed7953"
             ],
             [
              0.7777777777777778,
              "#fb9f3a"
             ],
             [
              0.8888888888888888,
              "#fdca26"
             ],
             [
              1,
              "#f0f921"
             ]
            ],
            "type": "contour"
           }
          ],
          "contourcarpet": [
           {
            "colorbar": {
             "outlinewidth": 0,
             "ticks": ""
            },
            "type": "contourcarpet"
           }
          ],
          "heatmap": [
           {
            "colorbar": {
             "outlinewidth": 0,
             "ticks": ""
            },
            "colorscale": [
             [
              0,
              "#0d0887"
             ],
             [
              0.1111111111111111,
              "#46039f"
             ],
             [
              0.2222222222222222,
              "#7201a8"
             ],
             [
              0.3333333333333333,
              "#9c179e"
             ],
             [
              0.4444444444444444,
              "#bd3786"
             ],
             [
              0.5555555555555556,
              "#d8576b"
             ],
             [
              0.6666666666666666,
              "#ed7953"
             ],
             [
              0.7777777777777778,
              "#fb9f3a"
             ],
             [
              0.8888888888888888,
              "#fdca26"
             ],
             [
              1,
              "#f0f921"
             ]
            ],
            "type": "heatmap"
           }
          ],
          "heatmapgl": [
           {
            "colorbar": {
             "outlinewidth": 0,
             "ticks": ""
            },
            "colorscale": [
             [
              0,
              "#0d0887"
             ],
             [
              0.1111111111111111,
              "#46039f"
             ],
             [
              0.2222222222222222,
              "#7201a8"
             ],
             [
              0.3333333333333333,
              "#9c179e"
             ],
             [
              0.4444444444444444,
              "#bd3786"
             ],
             [
              0.5555555555555556,
              "#d8576b"
             ],
             [
              0.6666666666666666,
              "#ed7953"
             ],
             [
              0.7777777777777778,
              "#fb9f3a"
             ],
             [
              0.8888888888888888,
              "#fdca26"
             ],
             [
              1,
              "#f0f921"
             ]
            ],
            "type": "heatmapgl"
           }
          ],
          "histogram": [
           {
            "marker": {
             "pattern": {
              "fillmode": "overlay",
              "size": 10,
              "solidity": 0.2
             }
            },
            "type": "histogram"
           }
          ],
          "histogram2d": [
           {
            "colorbar": {
             "outlinewidth": 0,
             "ticks": ""
            },
            "colorscale": [
             [
              0,
              "#0d0887"
             ],
             [
              0.1111111111111111,
              "#46039f"
             ],
             [
              0.2222222222222222,
              "#7201a8"
             ],
             [
              0.3333333333333333,
              "#9c179e"
             ],
             [
              0.4444444444444444,
              "#bd3786"
             ],
             [
              0.5555555555555556,
              "#d8576b"
             ],
             [
              0.6666666666666666,
              "#ed7953"
             ],
             [
              0.7777777777777778,
              "#fb9f3a"
             ],
             [
              0.8888888888888888,
              "#fdca26"
             ],
             [
              1,
              "#f0f921"
             ]
            ],
            "type": "histogram2d"
           }
          ],
          "histogram2dcontour": [
           {
            "colorbar": {
             "outlinewidth": 0,
             "ticks": ""
            },
            "colorscale": [
             [
              0,
              "#0d0887"
             ],
             [
              0.1111111111111111,
              "#46039f"
             ],
             [
              0.2222222222222222,
              "#7201a8"
             ],
             [
              0.3333333333333333,
              "#9c179e"
             ],
             [
              0.4444444444444444,
              "#bd3786"
             ],
             [
              0.5555555555555556,
              "#d8576b"
             ],
             [
              0.6666666666666666,
              "#ed7953"
             ],
             [
              0.7777777777777778,
              "#fb9f3a"
             ],
             [
              0.8888888888888888,
              "#fdca26"
             ],
             [
              1,
              "#f0f921"
             ]
            ],
            "type": "histogram2dcontour"
           }
          ],
          "mesh3d": [
           {
            "colorbar": {
             "outlinewidth": 0,
             "ticks": ""
            },
            "type": "mesh3d"
           }
          ],
          "parcoords": [
           {
            "line": {
             "colorbar": {
              "outlinewidth": 0,
              "ticks": ""
             }
            },
            "type": "parcoords"
           }
          ],
          "pie": [
           {
            "automargin": true,
            "type": "pie"
           }
          ],
          "scatter": [
           {
            "marker": {
             "colorbar": {
              "outlinewidth": 0,
              "ticks": ""
             }
            },
            "type": "scatter"
           }
          ],
          "scatter3d": [
           {
            "line": {
             "colorbar": {
              "outlinewidth": 0,
              "ticks": ""
             }
            },
            "marker": {
             "colorbar": {
              "outlinewidth": 0,
              "ticks": ""
             }
            },
            "type": "scatter3d"
           }
          ],
          "scattercarpet": [
           {
            "marker": {
             "colorbar": {
              "outlinewidth": 0,
              "ticks": ""
             }
            },
            "type": "scattercarpet"
           }
          ],
          "scattergeo": [
           {
            "marker": {
             "colorbar": {
              "outlinewidth": 0,
              "ticks": ""
             }
            },
            "type": "scattergeo"
           }
          ],
          "scattergl": [
           {
            "marker": {
             "colorbar": {
              "outlinewidth": 0,
              "ticks": ""
             }
            },
            "type": "scattergl"
           }
          ],
          "scattermapbox": [
           {
            "marker": {
             "colorbar": {
              "outlinewidth": 0,
              "ticks": ""
             }
            },
            "type": "scattermapbox"
           }
          ],
          "scatterpolar": [
           {
            "marker": {
             "colorbar": {
              "outlinewidth": 0,
              "ticks": ""
             }
            },
            "type": "scatterpolar"
           }
          ],
          "scatterpolargl": [
           {
            "marker": {
             "colorbar": {
              "outlinewidth": 0,
              "ticks": ""
             }
            },
            "type": "scatterpolargl"
           }
          ],
          "scatterternary": [
           {
            "marker": {
             "colorbar": {
              "outlinewidth": 0,
              "ticks": ""
             }
            },
            "type": "scatterternary"
           }
          ],
          "surface": [
           {
            "colorbar": {
             "outlinewidth": 0,
             "ticks": ""
            },
            "colorscale": [
             [
              0,
              "#0d0887"
             ],
             [
              0.1111111111111111,
              "#46039f"
             ],
             [
              0.2222222222222222,
              "#7201a8"
             ],
             [
              0.3333333333333333,
              "#9c179e"
             ],
             [
              0.4444444444444444,
              "#bd3786"
             ],
             [
              0.5555555555555556,
              "#d8576b"
             ],
             [
              0.6666666666666666,
              "#ed7953"
             ],
             [
              0.7777777777777778,
              "#fb9f3a"
             ],
             [
              0.8888888888888888,
              "#fdca26"
             ],
             [
              1,
              "#f0f921"
             ]
            ],
            "type": "surface"
           }
          ],
          "table": [
           {
            "cells": {
             "fill": {
              "color": "#EBF0F8"
             },
             "line": {
              "color": "white"
             }
            },
            "header": {
             "fill": {
              "color": "#C8D4E3"
             },
             "line": {
              "color": "white"
             }
            },
            "type": "table"
           }
          ]
         },
         "layout": {
          "annotationdefaults": {
           "arrowcolor": "#2a3f5f",
           "arrowhead": 0,
           "arrowwidth": 1
          },
          "autotypenumbers": "strict",
          "coloraxis": {
           "colorbar": {
            "outlinewidth": 0,
            "ticks": ""
           }
          },
          "colorscale": {
           "diverging": [
            [
             0,
             "#8e0152"
            ],
            [
             0.1,
             "#c51b7d"
            ],
            [
             0.2,
             "#de77ae"
            ],
            [
             0.3,
             "#f1b6da"
            ],
            [
             0.4,
             "#fde0ef"
            ],
            [
             0.5,
             "#f7f7f7"
            ],
            [
             0.6,
             "#e6f5d0"
            ],
            [
             0.7,
             "#b8e186"
            ],
            [
             0.8,
             "#7fbc41"
            ],
            [
             0.9,
             "#4d9221"
            ],
            [
             1,
             "#276419"
            ]
           ],
           "sequential": [
            [
             0,
             "#0d0887"
            ],
            [
             0.1111111111111111,
             "#46039f"
            ],
            [
             0.2222222222222222,
             "#7201a8"
            ],
            [
             0.3333333333333333,
             "#9c179e"
            ],
            [
             0.4444444444444444,
             "#bd3786"
            ],
            [
             0.5555555555555556,
             "#d8576b"
            ],
            [
             0.6666666666666666,
             "#ed7953"
            ],
            [
             0.7777777777777778,
             "#fb9f3a"
            ],
            [
             0.8888888888888888,
             "#fdca26"
            ],
            [
             1,
             "#f0f921"
            ]
           ],
           "sequentialminus": [
            [
             0,
             "#0d0887"
            ],
            [
             0.1111111111111111,
             "#46039f"
            ],
            [
             0.2222222222222222,
             "#7201a8"
            ],
            [
             0.3333333333333333,
             "#9c179e"
            ],
            [
             0.4444444444444444,
             "#bd3786"
            ],
            [
             0.5555555555555556,
             "#d8576b"
            ],
            [
             0.6666666666666666,
             "#ed7953"
            ],
            [
             0.7777777777777778,
             "#fb9f3a"
            ],
            [
             0.8888888888888888,
             "#fdca26"
            ],
            [
             1,
             "#f0f921"
            ]
           ]
          },
          "colorway": [
           "#636efa",
           "#EF553B",
           "#00cc96",
           "#ab63fa",
           "#FFA15A",
           "#19d3f3",
           "#FF6692",
           "#B6E880",
           "#FF97FF",
           "#FECB52"
          ],
          "font": {
           "color": "#2a3f5f"
          },
          "geo": {
           "bgcolor": "white",
           "lakecolor": "white",
           "landcolor": "#E5ECF6",
           "showlakes": true,
           "showland": true,
           "subunitcolor": "white"
          },
          "hoverlabel": {
           "align": "left"
          },
          "hovermode": "closest",
          "mapbox": {
           "style": "light"
          },
          "paper_bgcolor": "white",
          "plot_bgcolor": "#E5ECF6",
          "polar": {
           "angularaxis": {
            "gridcolor": "white",
            "linecolor": "white",
            "ticks": ""
           },
           "bgcolor": "#E5ECF6",
           "radialaxis": {
            "gridcolor": "white",
            "linecolor": "white",
            "ticks": ""
           }
          },
          "scene": {
           "xaxis": {
            "backgroundcolor": "#E5ECF6",
            "gridcolor": "white",
            "gridwidth": 2,
            "linecolor": "white",
            "showbackground": true,
            "ticks": "",
            "zerolinecolor": "white"
           },
           "yaxis": {
            "backgroundcolor": "#E5ECF6",
            "gridcolor": "white",
            "gridwidth": 2,
            "linecolor": "white",
            "showbackground": true,
            "ticks": "",
            "zerolinecolor": "white"
           },
           "zaxis": {
            "backgroundcolor": "#E5ECF6",
            "gridcolor": "white",
            "gridwidth": 2,
            "linecolor": "white",
            "showbackground": true,
            "ticks": "",
            "zerolinecolor": "white"
           }
          },
          "shapedefaults": {
           "line": {
            "color": "#2a3f5f"
           }
          },
          "ternary": {
           "aaxis": {
            "gridcolor": "white",
            "linecolor": "white",
            "ticks": ""
           },
           "baxis": {
            "gridcolor": "white",
            "linecolor": "white",
            "ticks": ""
           },
           "bgcolor": "#E5ECF6",
           "caxis": {
            "gridcolor": "white",
            "linecolor": "white",
            "ticks": ""
           }
          },
          "title": {
           "x": 0.05
          },
          "xaxis": {
           "automargin": true,
           "gridcolor": "white",
           "linecolor": "white",
           "ticks": "",
           "title": {
            "standoff": 15
           },
           "zerolinecolor": "white",
           "zerolinewidth": 2
          },
          "yaxis": {
           "automargin": true,
           "gridcolor": "white",
           "linecolor": "white",
           "ticks": "",
           "title": {
            "standoff": 15
           },
           "zerolinecolor": "white",
           "zerolinewidth": 2
          }
         }
        },
        "title": {
         "text": "Bar of TLC Apps per M/Y"
        }
       }
      },
      "text/html": [
       "<div>                            <div id=\"e4bcb7ae-6d1d-4a76-9c06-abfb41fdd019\" class=\"plotly-graph-div\" style=\"height:525px; width:100%;\"></div>            <script type=\"text/javascript\">                require([\"plotly\"], function(Plotly) {                    window.PLOTLYENV=window.PLOTLYENV || {};                                    if (document.getElementById(\"e4bcb7ae-6d1d-4a76-9c06-abfb41fdd019\")) {                    Plotly.newPlot(                        \"e4bcb7ae-6d1d-4a76-9c06-abfb41fdd019\",                        [{\"text\":[\"1997-04\",\"2016-10\",\"2017-03\",\"2017-05\",\"2017-11\",\"2018-02\",\"2018-04\",\"2019-11\",\"2019-12\",\"2020-01\",\"2020-02\",\"2020-03\",\"2020-04\",\"2020-05\",\"2020-06\",\"2020-07\",\"2020-08\",\"2020-09\",\"2020-10\",\"2020-11\",\"2020-12\",\"2021-01\",\"2021-02\",\"2021-03\",\"2021-04\",\"2021-05\",\"2021-06\",\"2021-07\",\"2021-08\",\"2021-09\",\"2021-10\",\"2021-11\",\"2021-12\",\"2022-01\",\"2022-02\",\"2022-03\",\"2022-04\"],\"x\":[\"1997-04\",\"2016-10\",\"2017-03\",\"2017-05\",\"2017-11\",\"2018-02\",\"2018-04\",\"2019-11\",\"2019-12\",\"2020-01\",\"2020-02\",\"2020-03\",\"2020-04\",\"2020-05\",\"2020-06\",\"2020-07\",\"2020-08\",\"2020-09\",\"2020-10\",\"2020-11\",\"2020-12\",\"2021-01\",\"2021-02\",\"2021-03\",\"2021-04\",\"2021-05\",\"2021-06\",\"2021-07\",\"2021-08\",\"2021-09\",\"2021-10\",\"2021-11\",\"2021-12\",\"2022-01\",\"2022-02\",\"2022-03\",\"2022-04\"],\"y\":[[3],[1],[2],[2],[1],[9],[1],[2],[125],[210],[209],[199],[16],[46],[59],[65],[90],[73],[86],[65],[74],[78],[63],[142],[149],[175],[185],[228],[276],[374],[361],[416],[446],[549],[795],[1489],[44]],\"type\":\"bar\"}],                        {\"template\":{\"data\":{\"barpolar\":[{\"marker\":{\"line\":{\"color\":\"#E5ECF6\",\"width\":0.5},\"pattern\":{\"fillmode\":\"overlay\",\"size\":10,\"solidity\":0.2}},\"type\":\"barpolar\"}],\"bar\":[{\"error_x\":{\"color\":\"#2a3f5f\"},\"error_y\":{\"color\":\"#2a3f5f\"},\"marker\":{\"line\":{\"color\":\"#E5ECF6\",\"width\":0.5},\"pattern\":{\"fillmode\":\"overlay\",\"size\":10,\"solidity\":0.2}},\"type\":\"bar\"}],\"carpet\":[{\"aaxis\":{\"endlinecolor\":\"#2a3f5f\",\"gridcolor\":\"white\",\"linecolor\":\"white\",\"minorgridcolor\":\"white\",\"startlinecolor\":\"#2a3f5f\"},\"baxis\":{\"endlinecolor\":\"#2a3f5f\",\"gridcolor\":\"white\",\"linecolor\":\"white\",\"minorgridcolor\":\"white\",\"startlinecolor\":\"#2a3f5f\"},\"type\":\"carpet\"}],\"choropleth\":[{\"colorbar\":{\"outlinewidth\":0,\"ticks\":\"\"},\"type\":\"choropleth\"}],\"contourcarpet\":[{\"colorbar\":{\"outlinewidth\":0,\"ticks\":\"\"},\"type\":\"contourcarpet\"}],\"contour\":[{\"colorbar\":{\"outlinewidth\":0,\"ticks\":\"\"},\"colorscale\":[[0.0,\"#0d0887\"],[0.1111111111111111,\"#46039f\"],[0.2222222222222222,\"#7201a8\"],[0.3333333333333333,\"#9c179e\"],[0.4444444444444444,\"#bd3786\"],[0.5555555555555556,\"#d8576b\"],[0.6666666666666666,\"#ed7953\"],[0.7777777777777778,\"#fb9f3a\"],[0.8888888888888888,\"#fdca26\"],[1.0,\"#f0f921\"]],\"type\":\"contour\"}],\"heatmapgl\":[{\"colorbar\":{\"outlinewidth\":0,\"ticks\":\"\"},\"colorscale\":[[0.0,\"#0d0887\"],[0.1111111111111111,\"#46039f\"],[0.2222222222222222,\"#7201a8\"],[0.3333333333333333,\"#9c179e\"],[0.4444444444444444,\"#bd3786\"],[0.5555555555555556,\"#d8576b\"],[0.6666666666666666,\"#ed7953\"],[0.7777777777777778,\"#fb9f3a\"],[0.8888888888888888,\"#fdca26\"],[1.0,\"#f0f921\"]],\"type\":\"heatmapgl\"}],\"heatmap\":[{\"colorbar\":{\"outlinewidth\":0,\"ticks\":\"\"},\"colorscale\":[[0.0,\"#0d0887\"],[0.1111111111111111,\"#46039f\"],[0.2222222222222222,\"#7201a8\"],[0.3333333333333333,\"#9c179e\"],[0.4444444444444444,\"#bd3786\"],[0.5555555555555556,\"#d8576b\"],[0.6666666666666666,\"#ed7953\"],[0.7777777777777778,\"#fb9f3a\"],[0.8888888888888888,\"#fdca26\"],[1.0,\"#f0f921\"]],\"type\":\"heatmap\"}],\"histogram2dcontour\":[{\"colorbar\":{\"outlinewidth\":0,\"ticks\":\"\"},\"colorscale\":[[0.0,\"#0d0887\"],[0.1111111111111111,\"#46039f\"],[0.2222222222222222,\"#7201a8\"],[0.3333333333333333,\"#9c179e\"],[0.4444444444444444,\"#bd3786\"],[0.5555555555555556,\"#d8576b\"],[0.6666666666666666,\"#ed7953\"],[0.7777777777777778,\"#fb9f3a\"],[0.8888888888888888,\"#fdca26\"],[1.0,\"#f0f921\"]],\"type\":\"histogram2dcontour\"}],\"histogram2d\":[{\"colorbar\":{\"outlinewidth\":0,\"ticks\":\"\"},\"colorscale\":[[0.0,\"#0d0887\"],[0.1111111111111111,\"#46039f\"],[0.2222222222222222,\"#7201a8\"],[0.3333333333333333,\"#9c179e\"],[0.4444444444444444,\"#bd3786\"],[0.5555555555555556,\"#d8576b\"],[0.6666666666666666,\"#ed7953\"],[0.7777777777777778,\"#fb9f3a\"],[0.8888888888888888,\"#fdca26\"],[1.0,\"#f0f921\"]],\"type\":\"histogram2d\"}],\"histogram\":[{\"marker\":{\"pattern\":{\"fillmode\":\"overlay\",\"size\":10,\"solidity\":0.2}},\"type\":\"histogram\"}],\"mesh3d\":[{\"colorbar\":{\"outlinewidth\":0,\"ticks\":\"\"},\"type\":\"mesh3d\"}],\"parcoords\":[{\"line\":{\"colorbar\":{\"outlinewidth\":0,\"ticks\":\"\"}},\"type\":\"parcoords\"}],\"pie\":[{\"automargin\":true,\"type\":\"pie\"}],\"scatter3d\":[{\"line\":{\"colorbar\":{\"outlinewidth\":0,\"ticks\":\"\"}},\"marker\":{\"colorbar\":{\"outlinewidth\":0,\"ticks\":\"\"}},\"type\":\"scatter3d\"}],\"scattercarpet\":[{\"marker\":{\"colorbar\":{\"outlinewidth\":0,\"ticks\":\"\"}},\"type\":\"scattercarpet\"}],\"scattergeo\":[{\"marker\":{\"colorbar\":{\"outlinewidth\":0,\"ticks\":\"\"}},\"type\":\"scattergeo\"}],\"scattergl\":[{\"marker\":{\"colorbar\":{\"outlinewidth\":0,\"ticks\":\"\"}},\"type\":\"scattergl\"}],\"scattermapbox\":[{\"marker\":{\"colorbar\":{\"outlinewidth\":0,\"ticks\":\"\"}},\"type\":\"scattermapbox\"}],\"scatterpolargl\":[{\"marker\":{\"colorbar\":{\"outlinewidth\":0,\"ticks\":\"\"}},\"type\":\"scatterpolargl\"}],\"scatterpolar\":[{\"marker\":{\"colorbar\":{\"outlinewidth\":0,\"ticks\":\"\"}},\"type\":\"scatterpolar\"}],\"scatter\":[{\"marker\":{\"colorbar\":{\"outlinewidth\":0,\"ticks\":\"\"}},\"type\":\"scatter\"}],\"scatterternary\":[{\"marker\":{\"colorbar\":{\"outlinewidth\":0,\"ticks\":\"\"}},\"type\":\"scatterternary\"}],\"surface\":[{\"colorbar\":{\"outlinewidth\":0,\"ticks\":\"\"},\"colorscale\":[[0.0,\"#0d0887\"],[0.1111111111111111,\"#46039f\"],[0.2222222222222222,\"#7201a8\"],[0.3333333333333333,\"#9c179e\"],[0.4444444444444444,\"#bd3786\"],[0.5555555555555556,\"#d8576b\"],[0.6666666666666666,\"#ed7953\"],[0.7777777777777778,\"#fb9f3a\"],[0.8888888888888888,\"#fdca26\"],[1.0,\"#f0f921\"]],\"type\":\"surface\"}],\"table\":[{\"cells\":{\"fill\":{\"color\":\"#EBF0F8\"},\"line\":{\"color\":\"white\"}},\"header\":{\"fill\":{\"color\":\"#C8D4E3\"},\"line\":{\"color\":\"white\"}},\"type\":\"table\"}]},\"layout\":{\"annotationdefaults\":{\"arrowcolor\":\"#2a3f5f\",\"arrowhead\":0,\"arrowwidth\":1},\"autotypenumbers\":\"strict\",\"coloraxis\":{\"colorbar\":{\"outlinewidth\":0,\"ticks\":\"\"}},\"colorscale\":{\"diverging\":[[0,\"#8e0152\"],[0.1,\"#c51b7d\"],[0.2,\"#de77ae\"],[0.3,\"#f1b6da\"],[0.4,\"#fde0ef\"],[0.5,\"#f7f7f7\"],[0.6,\"#e6f5d0\"],[0.7,\"#b8e186\"],[0.8,\"#7fbc41\"],[0.9,\"#4d9221\"],[1,\"#276419\"]],\"sequential\":[[0.0,\"#0d0887\"],[0.1111111111111111,\"#46039f\"],[0.2222222222222222,\"#7201a8\"],[0.3333333333333333,\"#9c179e\"],[0.4444444444444444,\"#bd3786\"],[0.5555555555555556,\"#d8576b\"],[0.6666666666666666,\"#ed7953\"],[0.7777777777777778,\"#fb9f3a\"],[0.8888888888888888,\"#fdca26\"],[1.0,\"#f0f921\"]],\"sequentialminus\":[[0.0,\"#0d0887\"],[0.1111111111111111,\"#46039f\"],[0.2222222222222222,\"#7201a8\"],[0.3333333333333333,\"#9c179e\"],[0.4444444444444444,\"#bd3786\"],[0.5555555555555556,\"#d8576b\"],[0.6666666666666666,\"#ed7953\"],[0.7777777777777778,\"#fb9f3a\"],[0.8888888888888888,\"#fdca26\"],[1.0,\"#f0f921\"]]},\"colorway\":[\"#636efa\",\"#EF553B\",\"#00cc96\",\"#ab63fa\",\"#FFA15A\",\"#19d3f3\",\"#FF6692\",\"#B6E880\",\"#FF97FF\",\"#FECB52\"],\"font\":{\"color\":\"#2a3f5f\"},\"geo\":{\"bgcolor\":\"white\",\"lakecolor\":\"white\",\"landcolor\":\"#E5ECF6\",\"showlakes\":true,\"showland\":true,\"subunitcolor\":\"white\"},\"hoverlabel\":{\"align\":\"left\"},\"hovermode\":\"closest\",\"mapbox\":{\"style\":\"light\"},\"paper_bgcolor\":\"white\",\"plot_bgcolor\":\"#E5ECF6\",\"polar\":{\"angularaxis\":{\"gridcolor\":\"white\",\"linecolor\":\"white\",\"ticks\":\"\"},\"bgcolor\":\"#E5ECF6\",\"radialaxis\":{\"gridcolor\":\"white\",\"linecolor\":\"white\",\"ticks\":\"\"}},\"scene\":{\"xaxis\":{\"backgroundcolor\":\"#E5ECF6\",\"gridcolor\":\"white\",\"gridwidth\":2,\"linecolor\":\"white\",\"showbackground\":true,\"ticks\":\"\",\"zerolinecolor\":\"white\"},\"yaxis\":{\"backgroundcolor\":\"#E5ECF6\",\"gridcolor\":\"white\",\"gridwidth\":2,\"linecolor\":\"white\",\"showbackground\":true,\"ticks\":\"\",\"zerolinecolor\":\"white\"},\"zaxis\":{\"backgroundcolor\":\"#E5ECF6\",\"gridcolor\":\"white\",\"gridwidth\":2,\"linecolor\":\"white\",\"showbackground\":true,\"ticks\":\"\",\"zerolinecolor\":\"white\"}},\"shapedefaults\":{\"line\":{\"color\":\"#2a3f5f\"}},\"ternary\":{\"aaxis\":{\"gridcolor\":\"white\",\"linecolor\":\"white\",\"ticks\":\"\"},\"baxis\":{\"gridcolor\":\"white\",\"linecolor\":\"white\",\"ticks\":\"\"},\"bgcolor\":\"#E5ECF6\",\"caxis\":{\"gridcolor\":\"white\",\"linecolor\":\"white\",\"ticks\":\"\"}},\"title\":{\"x\":0.05},\"xaxis\":{\"automargin\":true,\"gridcolor\":\"white\",\"linecolor\":\"white\",\"ticks\":\"\",\"title\":{\"standoff\":15},\"zerolinecolor\":\"white\",\"zerolinewidth\":2},\"yaxis\":{\"automargin\":true,\"gridcolor\":\"white\",\"linecolor\":\"white\",\"ticks\":\"\",\"title\":{\"standoff\":15},\"zerolinecolor\":\"white\",\"zerolinewidth\":2}}},\"title\":{\"text\":\"Bar of TLC Apps per M/Y\"}},                        {\"responsive\": true}                    ).then(function(){\n",
       "                            \n",
       "var gd = document.getElementById('e4bcb7ae-6d1d-4a76-9c06-abfb41fdd019');\n",
       "var x = new MutationObserver(function (mutations, observer) {{\n",
       "        var display = window.getComputedStyle(gd).display;\n",
       "        if (!display || display === 'none') {{\n",
       "            console.log([gd, 'removed!']);\n",
       "            Plotly.purge(gd);\n",
       "            observer.disconnect();\n",
       "        }}\n",
       "}});\n",
       "\n",
       "// Listen for the removal of the full notebook cells\n",
       "var notebookContainer = gd.closest('#notebook-container');\n",
       "if (notebookContainer) {{\n",
       "    x.observe(notebookContainer, {childList: true});\n",
       "}}\n",
       "\n",
       "// Listen for the clearing of the current output cell\n",
       "var outputEl = gd.closest('.output');\n",
       "if (outputEl) {{\n",
       "    x.observe(outputEl, {childList: true});\n",
       "}}\n",
       "\n",
       "                        })                };                });            </script>        </div>"
      ]
     },
     "metadata": {},
     "output_type": "display_data"
    }
   ],
   "source": [
    "# connected=True means it will download the latest version of plotly javascript library.\n",
    "plotly.offline.init_notebook_mode(connected = True)\n",
    "from plotly.graph_objs import Figure, Layout, Histogram, Bar, Scatter\n",
    "\n",
    "getbins = lambda t:{'start':t.min(),'end':t.max(), 'size':10}\n",
    "\n",
    "bar0 = Bar(x = df3['App Date (Y/M)'], y = df3['App No'], text = df3['App Date (Y/M)'])\n",
    "data = [bar0]\n",
    "layout = Layout(title = \"Bar of TLC Apps per M/Y\")\n",
    "fig = Figure(data = data, layout = layout)\n",
    "\n",
    "plotly.offline.iplot(fig, show_link = False, image_width = 600, image_height = 400)"
   ]
  },
  {
   "cell_type": "code",
   "execution_count": null,
   "id": "b1c00bdd",
   "metadata": {},
   "outputs": [],
   "source": []
  }
 ],
 "metadata": {
  "kernelspec": {
   "display_name": "Python 3 (ipykernel)",
   "language": "python",
   "name": "python3"
  },
  "language_info": {
   "codemirror_mode": {
    "name": "ipython",
    "version": 3
   },
   "file_extension": ".py",
   "mimetype": "text/x-python",
   "name": "python",
   "nbconvert_exporter": "python",
   "pygments_lexer": "ipython3",
   "version": "3.9.7"
  }
 },
 "nbformat": 4,
 "nbformat_minor": 5
}
